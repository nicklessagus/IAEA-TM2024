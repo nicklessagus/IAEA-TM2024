{
 "cells": [
  {
   "cell_type": "markdown",
   "id": "59c0e7c6-7a52-41f6-a7ee-3327b6761fbb",
   "metadata": {},
   "source": [
    "# Technical Meeting on the Deployment of Artificial Intelligence Solutions for the Nuclear Power Industry: Considerations and Guidance\n",
    "# 18-21 March 2024, Rockville, United States of America\n",
    "## APPLICATIONS OF AI IN THE QUALITY CONTROL OF SMR FUEL PELLETS\n",
    "\n",
    "In this notebook you can test the application of one very simple U-Net network on the problem of semantic segmentation over nuclear fuel pellets. "
   ]
  },
  {
   "cell_type": "code",
   "execution_count": 1,
   "id": "dfdd7250-0999-4cf8-821d-7c23ecbacd3e",
   "metadata": {},
   "outputs": [],
   "source": [
    "import tensorflow as tf\n",
    "\n",
    "image_directory = './Data/final_dataset/images'\n",
    "masks_directory = './Data/final_dataset/masks'\n",
    "\n",
    "# Setting GPU memory growth to True\n",
    "gpus = tf.config.experimental.list_physical_devices('GPU')\n",
    "if gpus:\n",
    "    try:\n",
    "        for gpu in gpus:\n",
    "            tf.config.experimental.set_memory_growth(gpu, True)\n",
    "    except RuntimeError as e:\n",
    "        print(e)"
   ]
  },
  {
   "cell_type": "code",
   "execution_count": 6,
   "id": "3c4a125e-f250-4714-9351-76e000201471",
   "metadata": {},
   "outputs": [],
   "source": [
    "import os\n",
    "from tensorflow import keras\n",
    "from keras import backend as K \n",
    "import functions as func\n",
    "import networks as nets\n",
    "import segmentation_models as sm #here again we use the \"Segmentation Models\" API just to use the same metrics \n",
    "\n",
    "os.environ[\"SM_FRAMEWORK\"] = \"tf.keras\"\n",
    "\n",
    "X_train, y_train, X_val, y_val, X_test, y_test = func.augmented_dataset(image_directory, masks_directory, seed=42, norm=True) #in this case we normalice the images"
   ]
  },
  {
   "cell_type": "code",
   "execution_count": 7,
   "id": "b97902ed-bc0f-44ed-89c6-44cac0a1a533",
   "metadata": {},
   "outputs": [
    {
     "name": "stdout",
     "output_type": "stream",
     "text": [
      "Model: \"model_1\"\n",
      "__________________________________________________________________________________________________\n",
      " Layer (type)                   Output Shape         Param #     Connected to                     \n",
      "==================================================================================================\n",
      " input_2 (InputLayer)           [(None, 96, 96, 3)]  0           []                               \n",
      "                                                                                                  \n",
      " conv2d_23 (Conv2D)             (None, 96, 96, 64)   1792        ['input_2[0][0]']                \n",
      "                                                                                                  \n",
      " conv2d_24 (Conv2D)             (None, 96, 96, 64)   36928       ['conv2d_23[0][0]']              \n",
      "                                                                                                  \n",
      " max_pooling2d_5 (MaxPooling2D)  (None, 48, 48, 64)  0           ['conv2d_24[0][0]']              \n",
      "                                                                                                  \n",
      " conv2d_25 (Conv2D)             (None, 48, 48, 128)  73856       ['max_pooling2d_5[0][0]']        \n",
      "                                                                                                  \n",
      " conv2d_26 (Conv2D)             (None, 48, 48, 128)  147584      ['conv2d_25[0][0]']              \n",
      "                                                                                                  \n",
      " max_pooling2d_6 (MaxPooling2D)  (None, 24, 24, 128)  0          ['conv2d_26[0][0]']              \n",
      "                                                                                                  \n",
      " conv2d_27 (Conv2D)             (None, 24, 24, 256)  295168      ['max_pooling2d_6[0][0]']        \n",
      "                                                                                                  \n",
      " conv2d_28 (Conv2D)             (None, 24, 24, 256)  590080      ['conv2d_27[0][0]']              \n",
      "                                                                                                  \n",
      " max_pooling2d_7 (MaxPooling2D)  (None, 12, 12, 256)  0          ['conv2d_28[0][0]']              \n",
      "                                                                                                  \n",
      " conv2d_29 (Conv2D)             (None, 12, 12, 512)  1180160     ['max_pooling2d_7[0][0]']        \n",
      "                                                                                                  \n",
      " conv2d_30 (Conv2D)             (None, 12, 12, 512)  2359808     ['conv2d_29[0][0]']              \n",
      "                                                                                                  \n",
      " max_pooling2d_8 (MaxPooling2D)  (None, 6, 6, 512)   0           ['conv2d_30[0][0]']              \n",
      "                                                                                                  \n",
      " conv2d_31 (Conv2D)             (None, 6, 6, 1024)   4719616     ['max_pooling2d_8[0][0]']        \n",
      "                                                                                                  \n",
      " conv2d_32 (Conv2D)             (None, 6, 6, 1024)   9438208     ['conv2d_31[0][0]']              \n",
      "                                                                                                  \n",
      " max_pooling2d_9 (MaxPooling2D)  (None, 3, 3, 1024)  0           ['conv2d_32[0][0]']              \n",
      "                                                                                                  \n",
      " conv2d_33 (Conv2D)             (None, 3, 3, 1024)   9438208     ['max_pooling2d_9[0][0]']        \n",
      "                                                                                                  \n",
      " conv2d_34 (Conv2D)             (None, 3, 3, 1024)   9438208     ['conv2d_33[0][0]']              \n",
      "                                                                                                  \n",
      " conv2d_35 (Conv2D)             (None, 3, 3, 1024)   9438208     ['conv2d_34[0][0]']              \n",
      "                                                                                                  \n",
      " conv2d_36 (Conv2D)             (None, 3, 3, 1024)   9438208     ['conv2d_35[0][0]']              \n",
      "                                                                                                  \n",
      " up_sampling2d_5 (UpSampling2D)  (None, 6, 6, 1024)  0           ['conv2d_36[0][0]']              \n",
      "                                                                                                  \n",
      " concatenate_5 (Concatenate)    (None, 6, 6, 2048)   0           ['up_sampling2d_5[0][0]',        \n",
      "                                                                  'conv2d_32[0][0]']              \n",
      "                                                                                                  \n",
      " conv2d_37 (Conv2D)             (None, 6, 6, 512)    9437696     ['concatenate_5[0][0]']          \n",
      "                                                                                                  \n",
      " conv2d_38 (Conv2D)             (None, 6, 6, 512)    2359808     ['conv2d_37[0][0]']              \n",
      "                                                                                                  \n",
      " up_sampling2d_6 (UpSampling2D)  (None, 12, 12, 512)  0          ['conv2d_38[0][0]']              \n",
      "                                                                                                  \n",
      " concatenate_6 (Concatenate)    (None, 12, 12, 1024  0           ['up_sampling2d_6[0][0]',        \n",
      "                                )                                 'conv2d_30[0][0]']              \n",
      "                                                                                                  \n",
      " conv2d_39 (Conv2D)             (None, 12, 12, 256)  2359552     ['concatenate_6[0][0]']          \n",
      "                                                                                                  \n",
      " conv2d_40 (Conv2D)             (None, 12, 12, 256)  590080      ['conv2d_39[0][0]']              \n",
      "                                                                                                  \n",
      " up_sampling2d_7 (UpSampling2D)  (None, 24, 24, 256)  0          ['conv2d_40[0][0]']              \n",
      "                                                                                                  \n",
      " concatenate_7 (Concatenate)    (None, 24, 24, 512)  0           ['up_sampling2d_7[0][0]',        \n",
      "                                                                  'conv2d_28[0][0]']              \n",
      "                                                                                                  \n",
      " conv2d_41 (Conv2D)             (None, 24, 24, 128)  589952      ['concatenate_7[0][0]']          \n",
      "                                                                                                  \n",
      " conv2d_42 (Conv2D)             (None, 24, 24, 128)  147584      ['conv2d_41[0][0]']              \n",
      "                                                                                                  \n",
      " up_sampling2d_8 (UpSampling2D)  (None, 48, 48, 128)  0          ['conv2d_42[0][0]']              \n",
      "                                                                                                  \n",
      " concatenate_8 (Concatenate)    (None, 48, 48, 256)  0           ['up_sampling2d_8[0][0]',        \n",
      "                                                                  'conv2d_26[0][0]']              \n",
      "                                                                                                  \n",
      " conv2d_43 (Conv2D)             (None, 48, 48, 64)   147520      ['concatenate_8[0][0]']          \n",
      "                                                                                                  \n",
      " conv2d_44 (Conv2D)             (None, 48, 48, 64)   36928       ['conv2d_43[0][0]']              \n",
      "                                                                                                  \n",
      " up_sampling2d_9 (UpSampling2D)  (None, 96, 96, 64)  0           ['conv2d_44[0][0]']              \n",
      "                                                                                                  \n",
      " concatenate_9 (Concatenate)    (None, 96, 96, 128)  0           ['up_sampling2d_9[0][0]',        \n",
      "                                                                  'conv2d_24[0][0]']              \n",
      "                                                                                                  \n",
      " conv2d_45 (Conv2D)             (None, 96, 96, 1)    129         ['concatenate_9[0][0]']          \n",
      "                                                                                                  \n",
      "==================================================================================================\n",
      "Total params: 72,265,281\n",
      "Trainable params: 72,265,281\n",
      "Non-trainable params: 0\n",
      "__________________________________________________________________________________________________\n"
     ]
    }
   ],
   "source": [
    "'''\n",
    "In \"networks.py\" is a definition of a simple U-Net, let's build one with the input dimensions of the images\n",
    "'''\n",
    "\n",
    "model_simp_unet = nets.build_unet((96, 96, 3))\n",
    "model_simp_unet.summary()"
   ]
  },
  {
   "cell_type": "code",
   "execution_count": 8,
   "id": "06bea595-1bc5-4c7f-816c-1ee6fa2bf028",
   "metadata": {},
   "outputs": [],
   "source": [
    "import keras\n",
    "from keras.optimizers import Adam\n",
    "\n",
    "model_simp_unet.compile(\n",
    "    'Adam',\n",
    "    loss=sm.losses.bce_jaccard_loss,\n",
    "    metrics=[sm.metrics.iou_score, sm.metrics.FScore()],    \n",
    ")\n",
    "#Let's define some common hyperparameters and callbacks for early stopping\n",
    "batch_size=16\n",
    "epochs=50\n",
    "patience=20\n",
    "early_stopping_cb=keras.callbacks.EarlyStopping(patience=patience,monitor='val_loss', restore_best_weights=True)"
   ]
  },
  {
   "cell_type": "code",
   "execution_count": 9,
   "id": "65a1ee08-f3f1-4dad-ae5a-a6a6b805de4a",
   "metadata": {},
   "outputs": [
    {
     "name": "stdout",
     "output_type": "stream",
     "text": [
      "Epoch 1/50\n",
      "36/36 [==============================] - 5s 98ms/step - loss: 2.0563 - iou_score: 0.0146 - f1-score: 0.0286 - val_loss: 1.0667 - val_iou_score: 0.0291 - val_f1-score: 0.0565\n",
      "Epoch 2/50\n",
      "36/36 [==============================] - 3s 85ms/step - loss: 0.8777 - iou_score: 0.1876 - f1-score: 0.3054 - val_loss: 0.6327 - val_iou_score: 0.4113 - val_f1-score: 0.5823\n",
      "Epoch 3/50\n",
      "36/36 [==============================] - 3s 85ms/step - loss: 0.5306 - iou_score: 0.5302 - f1-score: 0.6902 - val_loss: 0.4765 - val_iou_score: 0.5693 - val_f1-score: 0.7245\n",
      "Epoch 4/50\n",
      "36/36 [==============================] - 3s 86ms/step - loss: 0.4522 - iou_score: 0.5953 - f1-score: 0.7456 - val_loss: 0.4638 - val_iou_score: 0.5828 - val_f1-score: 0.7357\n",
      "Epoch 5/50\n",
      "36/36 [==============================] - 3s 85ms/step - loss: 0.4300 - iou_score: 0.6145 - f1-score: 0.7606 - val_loss: 0.4264 - val_iou_score: 0.6207 - val_f1-score: 0.7650\n",
      "Epoch 6/50\n",
      "36/36 [==============================] - 3s 84ms/step - loss: 0.4118 - iou_score: 0.6302 - f1-score: 0.7725 - val_loss: 0.4174 - val_iou_score: 0.6243 - val_f1-score: 0.7678\n",
      "Epoch 7/50\n",
      "36/36 [==============================] - 3s 80ms/step - loss: 0.4597 - iou_score: 0.5988 - f1-score: 0.7384 - val_loss: 0.5194 - val_iou_score: 0.5536 - val_f1-score: 0.7116\n",
      "Epoch 8/50\n",
      "36/36 [==============================] - 3s 85ms/step - loss: 0.4302 - iou_score: 0.6155 - f1-score: 0.7609 - val_loss: 0.4025 - val_iou_score: 0.6397 - val_f1-score: 0.7796\n",
      "Epoch 9/50\n",
      "36/36 [==============================] - 3s 83ms/step - loss: 0.3976 - iou_score: 0.6436 - f1-score: 0.7825 - val_loss: 0.4180 - val_iou_score: 0.6239 - val_f1-score: 0.7673\n",
      "Epoch 10/50\n",
      "36/36 [==============================] - 3s 85ms/step - loss: 0.3983 - iou_score: 0.6435 - f1-score: 0.7825 - val_loss: 0.3886 - val_iou_score: 0.6508 - val_f1-score: 0.7878\n",
      "Epoch 11/50\n",
      "36/36 [==============================] - 3s 84ms/step - loss: 0.3929 - iou_score: 0.6467 - f1-score: 0.7848 - val_loss: 0.3745 - val_iou_score: 0.6634 - val_f1-score: 0.7970\n",
      "Epoch 12/50\n",
      "36/36 [==============================] - 3s 81ms/step - loss: 0.3903 - iou_score: 0.6497 - f1-score: 0.7871 - val_loss: 0.3828 - val_iou_score: 0.6555 - val_f1-score: 0.7912\n",
      "Epoch 13/50\n",
      "36/36 [==============================] - 3s 85ms/step - loss: 0.3803 - iou_score: 0.6585 - f1-score: 0.7935 - val_loss: 0.3726 - val_iou_score: 0.6634 - val_f1-score: 0.7970\n",
      "Epoch 14/50\n",
      "36/36 [==============================] - 3s 82ms/step - loss: 0.3678 - iou_score: 0.6692 - f1-score: 0.8012 - val_loss: 0.4104 - val_iou_score: 0.6329 - val_f1-score: 0.7742\n",
      "Epoch 15/50\n",
      "36/36 [==============================] - 3s 81ms/step - loss: 0.3978 - iou_score: 0.6433 - f1-score: 0.7823 - val_loss: 0.3968 - val_iou_score: 0.6472 - val_f1-score: 0.7849\n",
      "Epoch 16/50\n",
      "36/36 [==============================] - 3s 81ms/step - loss: 0.4073 - iou_score: 0.6372 - f1-score: 0.7774 - val_loss: 0.3841 - val_iou_score: 0.6563 - val_f1-score: 0.7918\n",
      "Epoch 17/50\n",
      "36/36 [==============================] - 3s 85ms/step - loss: 0.3793 - iou_score: 0.6594 - f1-score: 0.7941 - val_loss: 0.4167 - val_iou_score: 0.6304 - val_f1-score: 0.7725\n",
      "Epoch 18/50\n",
      "36/36 [==============================] - 3s 86ms/step - loss: 0.3764 - iou_score: 0.6617 - f1-score: 0.7958 - val_loss: 0.3650 - val_iou_score: 0.6692 - val_f1-score: 0.8012\n",
      "Epoch 19/50\n",
      "36/36 [==============================] - 3s 84ms/step - loss: 0.3626 - iou_score: 0.6741 - f1-score: 0.8047 - val_loss: 0.3577 - val_iou_score: 0.6775 - val_f1-score: 0.8072\n",
      "Epoch 20/50\n",
      "36/36 [==============================] - 3s 81ms/step - loss: 0.3510 - iou_score: 0.6849 - f1-score: 0.8126 - val_loss: 0.3620 - val_iou_score: 0.6749 - val_f1-score: 0.8054\n",
      "Epoch 21/50\n",
      "36/36 [==============================] - 3s 86ms/step - loss: 0.3566 - iou_score: 0.6800 - f1-score: 0.8090 - val_loss: 0.3542 - val_iou_score: 0.6801 - val_f1-score: 0.8091\n",
      "Epoch 22/50\n",
      "36/36 [==============================] - 3s 80ms/step - loss: 0.3708 - iou_score: 0.6675 - f1-score: 0.7998 - val_loss: 0.3624 - val_iou_score: 0.6759 - val_f1-score: 0.8061\n",
      "Epoch 23/50\n",
      "36/36 [==============================] - 3s 80ms/step - loss: 0.3545 - iou_score: 0.6820 - f1-score: 0.8104 - val_loss: 0.3664 - val_iou_score: 0.6720 - val_f1-score: 0.8032\n",
      "Epoch 24/50\n",
      "36/36 [==============================] - 3s 84ms/step - loss: 0.5047 - iou_score: 0.5702 - f1-score: 0.7163 - val_loss: 0.3779 - val_iou_score: 0.6609 - val_f1-score: 0.7951\n",
      "Epoch 25/50\n",
      "36/36 [==============================] - 3s 82ms/step - loss: 0.3902 - iou_score: 0.6501 - f1-score: 0.7869 - val_loss: 0.3976 - val_iou_score: 0.6430 - val_f1-score: 0.7819\n",
      "Epoch 26/50\n",
      "36/36 [==============================] - 3s 83ms/step - loss: 0.3668 - iou_score: 0.6705 - f1-score: 0.8023 - val_loss: 0.3937 - val_iou_score: 0.6486 - val_f1-score: 0.7860\n",
      "Epoch 27/50\n",
      "36/36 [==============================] - 3s 87ms/step - loss: 0.3576 - iou_score: 0.6782 - f1-score: 0.8079 - val_loss: 0.3485 - val_iou_score: 0.6882 - val_f1-score: 0.8149\n",
      "Epoch 28/50\n",
      "36/36 [==============================] - 3s 82ms/step - loss: 0.3486 - iou_score: 0.6861 - f1-score: 0.8133 - val_loss: 0.3547 - val_iou_score: 0.6801 - val_f1-score: 0.8091\n",
      "Epoch 29/50\n",
      "36/36 [==============================] - 3s 81ms/step - loss: 0.3481 - iou_score: 0.6878 - f1-score: 0.8145 - val_loss: 0.3644 - val_iou_score: 0.6695 - val_f1-score: 0.8014\n",
      "Epoch 30/50\n",
      "36/36 [==============================] - 3s 81ms/step - loss: 0.3481 - iou_score: 0.6859 - f1-score: 0.8130 - val_loss: 0.3490 - val_iou_score: 0.6860 - val_f1-score: 0.8133\n",
      "Epoch 31/50\n",
      "36/36 [==============================] - 3s 88ms/step - loss: 0.3396 - iou_score: 0.6941 - f1-score: 0.8190 - val_loss: 0.3472 - val_iou_score: 0.6881 - val_f1-score: 0.8148\n",
      "Epoch 32/50\n",
      "36/36 [==============================] - 3s 86ms/step - loss: 0.3372 - iou_score: 0.6964 - f1-score: 0.8206 - val_loss: 0.3629 - val_iou_score: 0.6742 - val_f1-score: 0.8049\n",
      "Epoch 33/50\n",
      "36/36 [==============================] - 3s 81ms/step - loss: 0.3494 - iou_score: 0.6857 - f1-score: 0.8131 - val_loss: 0.3713 - val_iou_score: 0.6674 - val_f1-score: 0.7998\n",
      "Epoch 34/50\n",
      "36/36 [==============================] - 3s 81ms/step - loss: 0.3408 - iou_score: 0.6928 - f1-score: 0.8180 - val_loss: 0.3510 - val_iou_score: 0.6836 - val_f1-score: 0.8116\n",
      "Epoch 35/50\n",
      "36/36 [==============================] - 3s 88ms/step - loss: 0.3275 - iou_score: 0.7049 - f1-score: 0.8264 - val_loss: 0.3462 - val_iou_score: 0.6878 - val_f1-score: 0.8146\n",
      "Epoch 36/50\n",
      "36/36 [==============================] - 3s 81ms/step - loss: 0.3307 - iou_score: 0.7026 - f1-score: 0.8250 - val_loss: 0.3841 - val_iou_score: 0.6526 - val_f1-score: 0.7893\n",
      "Epoch 37/50\n",
      "36/36 [==============================] - 3s 82ms/step - loss: 0.3335 - iou_score: 0.6990 - f1-score: 0.8225 - val_loss: 0.3467 - val_iou_score: 0.6862 - val_f1-score: 0.8134\n",
      "Epoch 38/50\n",
      "36/36 [==============================] - 3s 83ms/step - loss: 0.3236 - iou_score: 0.7080 - f1-score: 0.8286 - val_loss: 0.3493 - val_iou_score: 0.6892 - val_f1-score: 0.8155\n",
      "Epoch 39/50\n",
      "36/36 [==============================] - 3s 90ms/step - loss: 0.3254 - iou_score: 0.7072 - f1-score: 0.8281 - val_loss: 0.3400 - val_iou_score: 0.6948 - val_f1-score: 0.8195\n",
      "Epoch 40/50\n",
      "36/36 [==============================] - 3s 84ms/step - loss: 0.3142 - iou_score: 0.7168 - f1-score: 0.8346 - val_loss: 0.3469 - val_iou_score: 0.6892 - val_f1-score: 0.8156\n",
      "Epoch 41/50\n",
      "36/36 [==============================] - 3s 82ms/step - loss: 0.3161 - iou_score: 0.7146 - f1-score: 0.8332 - val_loss: 0.3470 - val_iou_score: 0.6877 - val_f1-score: 0.8144\n",
      "Epoch 42/50\n",
      "36/36 [==============================] - 3s 84ms/step - loss: 0.3146 - iou_score: 0.7163 - f1-score: 0.8342 - val_loss: 0.3439 - val_iou_score: 0.6911 - val_f1-score: 0.8169\n",
      "Epoch 43/50\n",
      "36/36 [==============================] - 3s 83ms/step - loss: 0.3139 - iou_score: 0.7170 - f1-score: 0.8347 - val_loss: 0.3410 - val_iou_score: 0.6947 - val_f1-score: 0.8195\n",
      "Epoch 44/50\n",
      "36/36 [==============================] - 3s 82ms/step - loss: 0.3381 - iou_score: 0.6948 - f1-score: 0.8196 - val_loss: 0.3709 - val_iou_score: 0.6681 - val_f1-score: 0.8005\n",
      "Epoch 45/50\n",
      "36/36 [==============================] - 3s 81ms/step - loss: 0.3244 - iou_score: 0.7073 - f1-score: 0.8281 - val_loss: 0.3477 - val_iou_score: 0.6892 - val_f1-score: 0.8155\n",
      "Epoch 46/50\n",
      "36/36 [==============================] - 3s 86ms/step - loss: 0.3154 - iou_score: 0.7160 - f1-score: 0.8342 - val_loss: 0.3375 - val_iou_score: 0.6986 - val_f1-score: 0.8221\n",
      "Epoch 47/50\n",
      "36/36 [==============================] - 3s 84ms/step - loss: 0.3088 - iou_score: 0.7217 - f1-score: 0.8381 - val_loss: 0.3462 - val_iou_score: 0.6892 - val_f1-score: 0.8156\n",
      "Epoch 48/50\n",
      "36/36 [==============================] - 3s 83ms/step - loss: 0.3102 - iou_score: 0.7201 - f1-score: 0.8368 - val_loss: 0.3439 - val_iou_score: 0.6918 - val_f1-score: 0.8175\n",
      "Epoch 49/50\n",
      "36/36 [==============================] - 3s 84ms/step - loss: 0.3079 - iou_score: 0.7219 - f1-score: 0.8382 - val_loss: 0.3418 - val_iou_score: 0.6947 - val_f1-score: 0.8194\n",
      "Epoch 50/50\n",
      "36/36 [==============================] - 3s 86ms/step - loss: 0.3020 - iou_score: 0.7275 - f1-score: 0.8418 - val_loss: 0.3562 - val_iou_score: 0.6812 - val_f1-score: 0.8098\n"
     ]
    }
   ],
   "source": [
    "history_simp_unet = model_simp_unet.fit(\n",
    "   x=X_train,\n",
    "   y=y_train,\n",
    "   batch_size=batch_size,\n",
    "   epochs=epochs,\n",
    "   validation_data=(X_val, y_val),\n",
    "   callbacks=[early_stopping_cb]\n",
    ")\n",
    "\n",
    "#print(\"Saving Model...\")\n",
    "#model_unet.save('model_simp_unet.keras') "
   ]
  },
  {
   "cell_type": "code",
   "execution_count": 12,
   "id": "2f1d1396-b748-4681-9edf-2d9905a44944",
   "metadata": {},
   "outputs": [
    {
     "data": {
      "image/png": "[encoded data removed]",
      "text/plain": [
       "<Figure size 864x432 with 1 Axes>"
      ]
     },
     "metadata": {
      "needs_background": "light"
     },
     "output_type": "display_data"
    }
   ],
   "source": [
    "#let's plot some metrics, if you want to try others you can uncomment in the functions.py file\n",
    "x_lim=50\n",
    "y_lim=2\n",
    "func.plot_history(history_simp_unet,x_lim, y_lim)"
   ]
  },
  {
   "cell_type": "markdown",
   "id": "32f1f2b8-9e15-45e7-821a-c891cf5c0be1",
   "metadata": {},
   "source": [
    "In comparation with the pretrained models it seems that the network it's a little bit simple for the problem (the training loss could be less) "
   ]
  },
  {
   "cell_type": "code",
   "execution_count": 14,
   "id": "b84e96dc-272a-4731-999a-886ca53f4720",
   "metadata": {},
   "outputs": [
    {
     "name": "stdout",
     "output_type": "stream",
     "text": [
      "Simp_UNET\n",
      "Validation results...\n",
      "5/5 [==============================] - 2s 34ms/step - loss: 0.3568 - iou_score: 0.6838 - f1-score: 0.8117\n",
      "Test results...\n",
      "3/3 [==============================] - 2s 753ms/step - loss: 0.3785 - iou_score: 0.6600 - f1-score: 0.7951\n"
     ]
    },
    {
     "data": {
      "text/plain": [
       "[0.37846294045448303, 0.6599807143211365, 0.7951340079307556]"
      ]
     },
     "execution_count": 14,
     "metadata": {},
     "output_type": "execute_result"
    }
   ],
   "source": [
    "'''\n",
    "ATTENTION\n",
    "In \"real life\" it should not be used the test set for the model selection. \n",
    "is just to compare in this toy example\n",
    "'''\n",
    "\n",
    "print(\"Simp_UNET\")\n",
    "print(\"Validation results...\")\n",
    "model_simp_unet.evaluate(X_val, y_val)\n",
    "print(\"Test results...\")\n",
    "model_simp_unet.evaluate(X_test, y_test) "
   ]
  }
 ],
 "metadata": {
  "kernelspec": {
   "display_name": "Python 3",
   "language": "python",
   "name": "python3"
  },
  "language_info": {
   "codemirror_mode": {
    "name": "ipython",
    "version": 3
   },
   "file_extension": ".py",
   "mimetype": "text/x-python",
   "name": "python",
   "nbconvert_exporter": "python",
   "pygments_lexer": "ipython3",
   "version": "3.9.17"
  }
 },
 "nbformat": 4,
 "nbformat_minor": 5
}
